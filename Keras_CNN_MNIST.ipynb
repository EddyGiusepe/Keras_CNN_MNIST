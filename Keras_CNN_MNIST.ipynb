{
  "nbformat": 4,
  "nbformat_minor": 0,
  "metadata": {
    "colab": {
      "name": "Keras_CNN_MNIST.ipynb",
      "provenance": [],
      "collapsed_sections": [],
      "mount_file_id": "1gC8hLQD252Yynw2JXzGwk6EnOwz9HPLV",
      "authorship_tag": "ABX9TyMJNySTlQUF58NcR9rr1hYZ",
      "include_colab_link": true
    },
    "kernelspec": {
      "name": "python3",
      "display_name": "Python 3"
    }
  },
  "cells": [
    {
      "cell_type": "markdown",
      "metadata": {
        "id": "view-in-github",
        "colab_type": "text"
      },
      "source": [
        "<a href=\"https://colab.research.google.com/github/EddyGiusepe/Keras_CNN_MNIST/blob/main/Keras_CNN_MNIST.ipynb\" target=\"_parent\"><img src=\"https://colab.research.google.com/assets/colab-badge.svg\" alt=\"Open In Colab\"/></a>"
      ]
    },
    {
      "cell_type": "markdown",
      "metadata": {
        "id": "KGO3yWvvJ2fw"
      },
      "source": [
        "# **Criando uma Rede Neural Convoluvional (CNN) para reconhecimento de escrita a mão**\r\n",
        "\r\n",
        "RECOMENDO FORTEMENTE ASSISTIR ESTE VÍDEO!\r\n",
        "\r\n",
        "Já que ele faz uma abordagem muito boa da teoria e logo realiza o exemplo que desenvolveremos a continuação.\r\n",
        "\r\n",
        "\r\n",
        "Neste vídeo se faz uma abordagem um pouco diferente: [click aqui](https://www.youtube.com/watch?v=FhwzOaEMk6Y&t=3129s).\r\n",
        "\r\n",
        "\r\n",
        "Este é um exemplo de aprendizado supervisionado. \r\n",
        "\r\n",
        "**nota:**\r\n",
        "\r\n",
        "Seguindo o vídeo me deu um erro de formato em nossos Dados.\r\n",
        "Tipo (1, 28, 28) --> (28, 28, 1).\r\n",
        "\r\n",
        "A dica está [aqui](https://stackoverflow.com/questions/64666638/invalidargumenterror-default-maxpoolingop-only-supports-nhwc-on-device-type-cpu)"
      ]
    },
    {
      "cell_type": "markdown",
      "metadata": {
        "id": "Z4N_l7GqK4sP"
      },
      "source": [
        "## Importamos a nossas livrarias"
      ]
    },
    {
      "cell_type": "code",
      "metadata": {
        "id": "uCNtimtgJlX7"
      },
      "source": [
        "from keras.datasets import mnist # Conjunto de Dados do MNIST \r\n",
        "from keras.models import Sequential # Permite montar nossos steps de camadas\r\n",
        "from keras.layers import Dense # Nos permite criar as nossas camadas Densas\r\n",
        "from keras.layers import Dropout # É a regularização\r\n",
        "from keras.layers import Flatten # Operação de achatamento\r\n",
        "from keras.layers.convolutional import Conv2D # Faz a convolução em nosso Dados de entrada\r\n",
        "from keras.layers.convolutional import MaxPooling2D \r\n",
        "\r\n",
        "\r\n",
        "import numpy as np\r\n",
        "from matplotlib import pyplot as plt \r\n",
        "%matplotlib inline \r\n",
        "\r\n",
        "from keras.utils import np_utils\r\n",
        "import cv2 # Pacote de visão computacional\r\n",
        "\r\n",
        "#from keras import backend as K\r\n",
        "\r\n",
        "#K.set_image_data_format('channels_first')\r\n"
      ],
      "execution_count": 1,
      "outputs": []
    },
    {
      "cell_type": "markdown",
      "metadata": {
        "id": "eI_DXkjXVbMM"
      },
      "source": [
        "## Dividimos nossos Dados em um conjunto de Dados de Treino e Dados de teste."
      ]
    },
    {
      "cell_type": "code",
      "metadata": {
        "id": "gMIkd9mqKf_W"
      },
      "source": [
        "(x_train, y_train), (x_test, y_test) = mnist.load_data()\r\n",
        "\r\n",
        "x_train = x_train.reshape(x_train.shape[0], 28, 28, 1).astype('float32') # Não --> (60000,1, 28, 28)\r\n",
        "x_test = x_test.reshape(x_test.shape[0], 28, 28, 1).astype('float32') # Não --> (10000,1, 28, 28)\r\n"
      ],
      "execution_count": 2,
      "outputs": []
    },
    {
      "cell_type": "code",
      "metadata": {
        "colab": {
          "base_uri": "https://localhost:8080/"
        },
        "id": "lKl7PDu2WA46",
        "outputId": "385c0e51-f5ba-4700-84d3-1fb208244d6a"
      },
      "source": [
        "print(len(x_train))\r\n",
        "print(\"\")\r\n",
        "print(len(x_train))\r\n",
        "print(\"\")\r\n",
        "print(len(y_test))"
      ],
      "execution_count": 3,
      "outputs": [
        {
          "output_type": "stream",
          "text": [
            "60000\n",
            "\n",
            "60000\n",
            "\n",
            "10000\n"
          ],
          "name": "stdout"
        }
      ]
    },
    {
      "cell_type": "code",
      "metadata": {
        "colab": {
          "base_uri": "https://localhost:8080/"
        },
        "id": "CcdWR9FpWWim",
        "outputId": "e8e845ca-4763-4eb5-b664-6f1f8d2c00db"
      },
      "source": [
        "print(x_train.shape)"
      ],
      "execution_count": 4,
      "outputs": [
        {
          "output_type": "stream",
          "text": [
            "(60000, 28, 28, 1)\n"
          ],
          "name": "stdout"
        }
      ]
    },
    {
      "cell_type": "code",
      "metadata": {
        "colab": {
          "base_uri": "https://localhost:8080/"
        },
        "id": "wat3m7NBaBXI",
        "outputId": "f25b73a3-26b5-4cbd-f8a8-8f6585ff809c"
      },
      "source": [
        "x_test.shape"
      ],
      "execution_count": 5,
      "outputs": [
        {
          "output_type": "execute_result",
          "data": {
            "text/plain": [
              "(10000, 28, 28, 1)"
            ]
          },
          "metadata": {
            "tags": []
          },
          "execution_count": 5
        }
      ]
    },
    {
      "cell_type": "code",
      "metadata": {
        "colab": {
          "base_uri": "https://localhost:8080/"
        },
        "id": "WApjyVaLbB4B",
        "outputId": "f246e545-13a1-4543-ab6b-525176b97870"
      },
      "source": [
        "# Nossos Dados estra de 0 a 255\r\n",
        "print(x_train[-1])"
      ],
      "execution_count": 6,
      "outputs": [
        {
          "output_type": "stream",
          "text": [
            "[[[  0.]\n",
            "  [  0.]\n",
            "  [  0.]\n",
            "  [  0.]\n",
            "  [  0.]\n",
            "  [  0.]\n",
            "  [  0.]\n",
            "  [  0.]\n",
            "  [  0.]\n",
            "  [  0.]\n",
            "  [  0.]\n",
            "  [  0.]\n",
            "  [  0.]\n",
            "  [  0.]\n",
            "  [  0.]\n",
            "  [  0.]\n",
            "  [  0.]\n",
            "  [  0.]\n",
            "  [  0.]\n",
            "  [  0.]\n",
            "  [  0.]\n",
            "  [  0.]\n",
            "  [  0.]\n",
            "  [  0.]\n",
            "  [  0.]\n",
            "  [  0.]\n",
            "  [  0.]\n",
            "  [  0.]]\n",
            "\n",
            " [[  0.]\n",
            "  [  0.]\n",
            "  [  0.]\n",
            "  [  0.]\n",
            "  [  0.]\n",
            "  [  0.]\n",
            "  [  0.]\n",
            "  [  0.]\n",
            "  [  0.]\n",
            "  [  0.]\n",
            "  [  0.]\n",
            "  [  0.]\n",
            "  [  0.]\n",
            "  [  0.]\n",
            "  [  0.]\n",
            "  [  0.]\n",
            "  [  0.]\n",
            "  [  0.]\n",
            "  [  0.]\n",
            "  [  0.]\n",
            "  [  0.]\n",
            "  [  0.]\n",
            "  [  0.]\n",
            "  [  0.]\n",
            "  [  0.]\n",
            "  [  0.]\n",
            "  [  0.]\n",
            "  [  0.]]\n",
            "\n",
            " [[  0.]\n",
            "  [  0.]\n",
            "  [  0.]\n",
            "  [  0.]\n",
            "  [  0.]\n",
            "  [  0.]\n",
            "  [  0.]\n",
            "  [  0.]\n",
            "  [  0.]\n",
            "  [  0.]\n",
            "  [  0.]\n",
            "  [  0.]\n",
            "  [  0.]\n",
            "  [  0.]\n",
            "  [  0.]\n",
            "  [  0.]\n",
            "  [  0.]\n",
            "  [  0.]\n",
            "  [  0.]\n",
            "  [  0.]\n",
            "  [  0.]\n",
            "  [  0.]\n",
            "  [  0.]\n",
            "  [  0.]\n",
            "  [  0.]\n",
            "  [  0.]\n",
            "  [  0.]\n",
            "  [  0.]]\n",
            "\n",
            " [[  0.]\n",
            "  [  0.]\n",
            "  [  0.]\n",
            "  [  0.]\n",
            "  [  0.]\n",
            "  [  0.]\n",
            "  [  0.]\n",
            "  [  0.]\n",
            "  [  0.]\n",
            "  [  0.]\n",
            "  [  0.]\n",
            "  [  0.]\n",
            "  [  0.]\n",
            "  [  0.]\n",
            "  [  0.]\n",
            "  [  0.]\n",
            "  [  0.]\n",
            "  [  0.]\n",
            "  [  0.]\n",
            "  [  0.]\n",
            "  [  0.]\n",
            "  [  0.]\n",
            "  [  0.]\n",
            "  [  0.]\n",
            "  [  0.]\n",
            "  [  0.]\n",
            "  [  0.]\n",
            "  [  0.]]\n",
            "\n",
            " [[  0.]\n",
            "  [  0.]\n",
            "  [  0.]\n",
            "  [  0.]\n",
            "  [  0.]\n",
            "  [  0.]\n",
            "  [  0.]\n",
            "  [  0.]\n",
            "  [  0.]\n",
            "  [  0.]\n",
            "  [  0.]\n",
            "  [  0.]\n",
            "  [  0.]\n",
            "  [  0.]\n",
            "  [  0.]\n",
            "  [  0.]\n",
            "  [  0.]\n",
            "  [  0.]\n",
            "  [  0.]\n",
            "  [  0.]\n",
            "  [  0.]\n",
            "  [  0.]\n",
            "  [  0.]\n",
            "  [  0.]\n",
            "  [  0.]\n",
            "  [  0.]\n",
            "  [  0.]\n",
            "  [  0.]]\n",
            "\n",
            " [[  0.]\n",
            "  [  0.]\n",
            "  [  0.]\n",
            "  [  0.]\n",
            "  [  0.]\n",
            "  [  0.]\n",
            "  [  0.]\n",
            "  [  0.]\n",
            "  [  0.]\n",
            "  [  0.]\n",
            "  [  0.]\n",
            "  [  0.]\n",
            "  [  0.]\n",
            "  [  0.]\n",
            "  [  0.]\n",
            "  [  0.]\n",
            "  [  0.]\n",
            "  [  0.]\n",
            "  [  0.]\n",
            "  [  0.]\n",
            "  [  0.]\n",
            "  [  0.]\n",
            "  [  0.]\n",
            "  [  0.]\n",
            "  [  0.]\n",
            "  [  0.]\n",
            "  [  0.]\n",
            "  [  0.]]\n",
            "\n",
            " [[  0.]\n",
            "  [  0.]\n",
            "  [  0.]\n",
            "  [  0.]\n",
            "  [  0.]\n",
            "  [  0.]\n",
            "  [  0.]\n",
            "  [  0.]\n",
            "  [  0.]\n",
            "  [  0.]\n",
            "  [  0.]\n",
            "  [  0.]\n",
            "  [  0.]\n",
            "  [  0.]\n",
            "  [  0.]\n",
            "  [  0.]\n",
            "  [ 38.]\n",
            "  [ 48.]\n",
            "  [ 48.]\n",
            "  [ 22.]\n",
            "  [  0.]\n",
            "  [  0.]\n",
            "  [  0.]\n",
            "  [  0.]\n",
            "  [  0.]\n",
            "  [  0.]\n",
            "  [  0.]\n",
            "  [  0.]]\n",
            "\n",
            " [[  0.]\n",
            "  [  0.]\n",
            "  [  0.]\n",
            "  [  0.]\n",
            "  [  0.]\n",
            "  [  0.]\n",
            "  [  0.]\n",
            "  [  0.]\n",
            "  [  0.]\n",
            "  [  0.]\n",
            "  [  0.]\n",
            "  [  0.]\n",
            "  [  0.]\n",
            "  [ 62.]\n",
            "  [ 97.]\n",
            "  [198.]\n",
            "  [243.]\n",
            "  [254.]\n",
            "  [254.]\n",
            "  [212.]\n",
            "  [ 27.]\n",
            "  [  0.]\n",
            "  [  0.]\n",
            "  [  0.]\n",
            "  [  0.]\n",
            "  [  0.]\n",
            "  [  0.]\n",
            "  [  0.]]\n",
            "\n",
            " [[  0.]\n",
            "  [  0.]\n",
            "  [  0.]\n",
            "  [  0.]\n",
            "  [  0.]\n",
            "  [  0.]\n",
            "  [  0.]\n",
            "  [  0.]\n",
            "  [  0.]\n",
            "  [  0.]\n",
            "  [  0.]\n",
            "  [  0.]\n",
            "  [ 67.]\n",
            "  [172.]\n",
            "  [254.]\n",
            "  [254.]\n",
            "  [225.]\n",
            "  [218.]\n",
            "  [218.]\n",
            "  [237.]\n",
            "  [248.]\n",
            "  [ 40.]\n",
            "  [  0.]\n",
            "  [ 21.]\n",
            "  [164.]\n",
            "  [187.]\n",
            "  [  0.]\n",
            "  [  0.]]\n",
            "\n",
            " [[  0.]\n",
            "  [  0.]\n",
            "  [  0.]\n",
            "  [  0.]\n",
            "  [  0.]\n",
            "  [  0.]\n",
            "  [  0.]\n",
            "  [  0.]\n",
            "  [  0.]\n",
            "  [  0.]\n",
            "  [  0.]\n",
            "  [ 89.]\n",
            "  [219.]\n",
            "  [254.]\n",
            "  [ 97.]\n",
            "  [ 67.]\n",
            "  [ 14.]\n",
            "  [  0.]\n",
            "  [  0.]\n",
            "  [ 92.]\n",
            "  [231.]\n",
            "  [122.]\n",
            "  [ 23.]\n",
            "  [203.]\n",
            "  [236.]\n",
            "  [ 59.]\n",
            "  [  0.]\n",
            "  [  0.]]\n",
            "\n",
            " [[  0.]\n",
            "  [  0.]\n",
            "  [  0.]\n",
            "  [  0.]\n",
            "  [  0.]\n",
            "  [  0.]\n",
            "  [  0.]\n",
            "  [  0.]\n",
            "  [  0.]\n",
            "  [  0.]\n",
            "  [ 25.]\n",
            "  [217.]\n",
            "  [242.]\n",
            "  [ 92.]\n",
            "  [  4.]\n",
            "  [  0.]\n",
            "  [  0.]\n",
            "  [  0.]\n",
            "  [  0.]\n",
            "  [  4.]\n",
            "  [147.]\n",
            "  [253.]\n",
            "  [240.]\n",
            "  [232.]\n",
            "  [ 92.]\n",
            "  [  0.]\n",
            "  [  0.]\n",
            "  [  0.]]\n",
            "\n",
            " [[  0.]\n",
            "  [  0.]\n",
            "  [  0.]\n",
            "  [  0.]\n",
            "  [  0.]\n",
            "  [  0.]\n",
            "  [  0.]\n",
            "  [  0.]\n",
            "  [  0.]\n",
            "  [  0.]\n",
            "  [101.]\n",
            "  [255.]\n",
            "  [ 92.]\n",
            "  [  0.]\n",
            "  [  0.]\n",
            "  [  0.]\n",
            "  [  0.]\n",
            "  [  0.]\n",
            "  [  0.]\n",
            "  [105.]\n",
            "  [254.]\n",
            "  [254.]\n",
            "  [177.]\n",
            "  [ 11.]\n",
            "  [  0.]\n",
            "  [  0.]\n",
            "  [  0.]\n",
            "  [  0.]]\n",
            "\n",
            " [[  0.]\n",
            "  [  0.]\n",
            "  [  0.]\n",
            "  [  0.]\n",
            "  [  0.]\n",
            "  [  0.]\n",
            "  [  0.]\n",
            "  [  0.]\n",
            "  [  0.]\n",
            "  [  0.]\n",
            "  [167.]\n",
            "  [244.]\n",
            "  [ 41.]\n",
            "  [  0.]\n",
            "  [  0.]\n",
            "  [  0.]\n",
            "  [  7.]\n",
            "  [ 76.]\n",
            "  [199.]\n",
            "  [238.]\n",
            "  [239.]\n",
            "  [ 94.]\n",
            "  [ 10.]\n",
            "  [  0.]\n",
            "  [  0.]\n",
            "  [  0.]\n",
            "  [  0.]\n",
            "  [  0.]]\n",
            "\n",
            " [[  0.]\n",
            "  [  0.]\n",
            "  [  0.]\n",
            "  [  0.]\n",
            "  [  0.]\n",
            "  [  0.]\n",
            "  [  0.]\n",
            "  [  0.]\n",
            "  [  0.]\n",
            "  [  0.]\n",
            "  [192.]\n",
            "  [121.]\n",
            "  [  0.]\n",
            "  [  0.]\n",
            "  [  2.]\n",
            "  [ 63.]\n",
            "  [180.]\n",
            "  [254.]\n",
            "  [233.]\n",
            "  [126.]\n",
            "  [  0.]\n",
            "  [  0.]\n",
            "  [  0.]\n",
            "  [  0.]\n",
            "  [  0.]\n",
            "  [  0.]\n",
            "  [  0.]\n",
            "  [  0.]]\n",
            "\n",
            " [[  0.]\n",
            "  [  0.]\n",
            "  [  0.]\n",
            "  [  0.]\n",
            "  [  0.]\n",
            "  [  0.]\n",
            "  [  0.]\n",
            "  [  0.]\n",
            "  [  0.]\n",
            "  [  0.]\n",
            "  [190.]\n",
            "  [196.]\n",
            "  [ 14.]\n",
            "  [  2.]\n",
            "  [ 97.]\n",
            "  [254.]\n",
            "  [252.]\n",
            "  [146.]\n",
            "  [ 52.]\n",
            "  [  0.]\n",
            "  [  0.]\n",
            "  [  0.]\n",
            "  [  0.]\n",
            "  [  0.]\n",
            "  [  0.]\n",
            "  [  0.]\n",
            "  [  0.]\n",
            "  [  0.]]\n",
            "\n",
            " [[  0.]\n",
            "  [  0.]\n",
            "  [  0.]\n",
            "  [  0.]\n",
            "  [  0.]\n",
            "  [  0.]\n",
            "  [  0.]\n",
            "  [  0.]\n",
            "  [  0.]\n",
            "  [  0.]\n",
            "  [130.]\n",
            "  [225.]\n",
            "  [ 71.]\n",
            "  [180.]\n",
            "  [232.]\n",
            "  [181.]\n",
            "  [ 60.]\n",
            "  [  0.]\n",
            "  [  0.]\n",
            "  [  0.]\n",
            "  [  0.]\n",
            "  [  0.]\n",
            "  [  0.]\n",
            "  [  0.]\n",
            "  [  0.]\n",
            "  [  0.]\n",
            "  [  0.]\n",
            "  [  0.]]\n",
            "\n",
            " [[  0.]\n",
            "  [  0.]\n",
            "  [  0.]\n",
            "  [  0.]\n",
            "  [  0.]\n",
            "  [  0.]\n",
            "  [  0.]\n",
            "  [  0.]\n",
            "  [  0.]\n",
            "  [  0.]\n",
            "  [130.]\n",
            "  [254.]\n",
            "  [254.]\n",
            "  [230.]\n",
            "  [ 46.]\n",
            "  [  0.]\n",
            "  [  0.]\n",
            "  [  0.]\n",
            "  [  0.]\n",
            "  [  0.]\n",
            "  [  0.]\n",
            "  [  0.]\n",
            "  [  0.]\n",
            "  [  0.]\n",
            "  [  0.]\n",
            "  [  0.]\n",
            "  [  0.]\n",
            "  [  0.]]\n",
            "\n",
            " [[  0.]\n",
            "  [  0.]\n",
            "  [  0.]\n",
            "  [  0.]\n",
            "  [  0.]\n",
            "  [  0.]\n",
            "  [  0.]\n",
            "  [  0.]\n",
            "  [  6.]\n",
            "  [ 77.]\n",
            "  [244.]\n",
            "  [254.]\n",
            "  [162.]\n",
            "  [  4.]\n",
            "  [  0.]\n",
            "  [  0.]\n",
            "  [  0.]\n",
            "  [  0.]\n",
            "  [  0.]\n",
            "  [  0.]\n",
            "  [  0.]\n",
            "  [  0.]\n",
            "  [  0.]\n",
            "  [  0.]\n",
            "  [  0.]\n",
            "  [  0.]\n",
            "  [  0.]\n",
            "  [  0.]]\n",
            "\n",
            " [[  0.]\n",
            "  [  0.]\n",
            "  [  0.]\n",
            "  [  0.]\n",
            "  [  0.]\n",
            "  [  0.]\n",
            "  [  0.]\n",
            "  [  0.]\n",
            "  [110.]\n",
            "  [254.]\n",
            "  [218.]\n",
            "  [254.]\n",
            "  [116.]\n",
            "  [  0.]\n",
            "  [  0.]\n",
            "  [  0.]\n",
            "  [  0.]\n",
            "  [  0.]\n",
            "  [  0.]\n",
            "  [  0.]\n",
            "  [  0.]\n",
            "  [  0.]\n",
            "  [  0.]\n",
            "  [  0.]\n",
            "  [  0.]\n",
            "  [  0.]\n",
            "  [  0.]\n",
            "  [  0.]]\n",
            "\n",
            " [[  0.]\n",
            "  [  0.]\n",
            "  [  0.]\n",
            "  [  0.]\n",
            "  [  0.]\n",
            "  [  0.]\n",
            "  [  0.]\n",
            "  [131.]\n",
            "  [254.]\n",
            "  [154.]\n",
            "  [ 28.]\n",
            "  [213.]\n",
            "  [ 86.]\n",
            "  [  0.]\n",
            "  [  0.]\n",
            "  [  0.]\n",
            "  [  0.]\n",
            "  [  0.]\n",
            "  [  0.]\n",
            "  [  0.]\n",
            "  [  0.]\n",
            "  [  0.]\n",
            "  [  0.]\n",
            "  [  0.]\n",
            "  [  0.]\n",
            "  [  0.]\n",
            "  [  0.]\n",
            "  [  0.]]\n",
            "\n",
            " [[  0.]\n",
            "  [  0.]\n",
            "  [  0.]\n",
            "  [  0.]\n",
            "  [  0.]\n",
            "  [  0.]\n",
            "  [ 66.]\n",
            "  [209.]\n",
            "  [153.]\n",
            "  [ 19.]\n",
            "  [ 19.]\n",
            "  [233.]\n",
            "  [ 60.]\n",
            "  [  0.]\n",
            "  [  0.]\n",
            "  [  0.]\n",
            "  [  0.]\n",
            "  [  0.]\n",
            "  [  0.]\n",
            "  [  0.]\n",
            "  [  0.]\n",
            "  [  0.]\n",
            "  [  0.]\n",
            "  [  0.]\n",
            "  [  0.]\n",
            "  [  0.]\n",
            "  [  0.]\n",
            "  [  0.]]\n",
            "\n",
            " [[  0.]\n",
            "  [  0.]\n",
            "  [  0.]\n",
            "  [  0.]\n",
            "  [  0.]\n",
            "  [  0.]\n",
            "  [142.]\n",
            "  [254.]\n",
            "  [165.]\n",
            "  [  0.]\n",
            "  [ 14.]\n",
            "  [216.]\n",
            "  [167.]\n",
            "  [  0.]\n",
            "  [  0.]\n",
            "  [  0.]\n",
            "  [  0.]\n",
            "  [  0.]\n",
            "  [  0.]\n",
            "  [  0.]\n",
            "  [  0.]\n",
            "  [  0.]\n",
            "  [  0.]\n",
            "  [  0.]\n",
            "  [  0.]\n",
            "  [  0.]\n",
            "  [  0.]\n",
            "  [  0.]]\n",
            "\n",
            " [[  0.]\n",
            "  [  0.]\n",
            "  [  0.]\n",
            "  [  0.]\n",
            "  [  0.]\n",
            "  [  0.]\n",
            "  [ 90.]\n",
            "  [254.]\n",
            "  [175.]\n",
            "  [  0.]\n",
            "  [ 18.]\n",
            "  [229.]\n",
            "  [ 92.]\n",
            "  [  0.]\n",
            "  [  0.]\n",
            "  [  0.]\n",
            "  [  0.]\n",
            "  [  0.]\n",
            "  [  0.]\n",
            "  [  0.]\n",
            "  [  0.]\n",
            "  [  0.]\n",
            "  [  0.]\n",
            "  [  0.]\n",
            "  [  0.]\n",
            "  [  0.]\n",
            "  [  0.]\n",
            "  [  0.]]\n",
            "\n",
            " [[  0.]\n",
            "  [  0.]\n",
            "  [  0.]\n",
            "  [  0.]\n",
            "  [  0.]\n",
            "  [  0.]\n",
            "  [ 26.]\n",
            "  [229.]\n",
            "  [249.]\n",
            "  [176.]\n",
            "  [222.]\n",
            "  [244.]\n",
            "  [ 44.]\n",
            "  [  0.]\n",
            "  [  0.]\n",
            "  [  0.]\n",
            "  [  0.]\n",
            "  [  0.]\n",
            "  [  0.]\n",
            "  [  0.]\n",
            "  [  0.]\n",
            "  [  0.]\n",
            "  [  0.]\n",
            "  [  0.]\n",
            "  [  0.]\n",
            "  [  0.]\n",
            "  [  0.]\n",
            "  [  0.]]\n",
            "\n",
            " [[  0.]\n",
            "  [  0.]\n",
            "  [  0.]\n",
            "  [  0.]\n",
            "  [  0.]\n",
            "  [  0.]\n",
            "  [  0.]\n",
            "  [ 73.]\n",
            "  [193.]\n",
            "  [197.]\n",
            "  [134.]\n",
            "  [  0.]\n",
            "  [  0.]\n",
            "  [  0.]\n",
            "  [  0.]\n",
            "  [  0.]\n",
            "  [  0.]\n",
            "  [  0.]\n",
            "  [  0.]\n",
            "  [  0.]\n",
            "  [  0.]\n",
            "  [  0.]\n",
            "  [  0.]\n",
            "  [  0.]\n",
            "  [  0.]\n",
            "  [  0.]\n",
            "  [  0.]\n",
            "  [  0.]]\n",
            "\n",
            " [[  0.]\n",
            "  [  0.]\n",
            "  [  0.]\n",
            "  [  0.]\n",
            "  [  0.]\n",
            "  [  0.]\n",
            "  [  0.]\n",
            "  [  0.]\n",
            "  [  0.]\n",
            "  [  0.]\n",
            "  [  0.]\n",
            "  [  0.]\n",
            "  [  0.]\n",
            "  [  0.]\n",
            "  [  0.]\n",
            "  [  0.]\n",
            "  [  0.]\n",
            "  [  0.]\n",
            "  [  0.]\n",
            "  [  0.]\n",
            "  [  0.]\n",
            "  [  0.]\n",
            "  [  0.]\n",
            "  [  0.]\n",
            "  [  0.]\n",
            "  [  0.]\n",
            "  [  0.]\n",
            "  [  0.]]\n",
            "\n",
            " [[  0.]\n",
            "  [  0.]\n",
            "  [  0.]\n",
            "  [  0.]\n",
            "  [  0.]\n",
            "  [  0.]\n",
            "  [  0.]\n",
            "  [  0.]\n",
            "  [  0.]\n",
            "  [  0.]\n",
            "  [  0.]\n",
            "  [  0.]\n",
            "  [  0.]\n",
            "  [  0.]\n",
            "  [  0.]\n",
            "  [  0.]\n",
            "  [  0.]\n",
            "  [  0.]\n",
            "  [  0.]\n",
            "  [  0.]\n",
            "  [  0.]\n",
            "  [  0.]\n",
            "  [  0.]\n",
            "  [  0.]\n",
            "  [  0.]\n",
            "  [  0.]\n",
            "  [  0.]\n",
            "  [  0.]]\n",
            "\n",
            " [[  0.]\n",
            "  [  0.]\n",
            "  [  0.]\n",
            "  [  0.]\n",
            "  [  0.]\n",
            "  [  0.]\n",
            "  [  0.]\n",
            "  [  0.]\n",
            "  [  0.]\n",
            "  [  0.]\n",
            "  [  0.]\n",
            "  [  0.]\n",
            "  [  0.]\n",
            "  [  0.]\n",
            "  [  0.]\n",
            "  [  0.]\n",
            "  [  0.]\n",
            "  [  0.]\n",
            "  [  0.]\n",
            "  [  0.]\n",
            "  [  0.]\n",
            "  [  0.]\n",
            "  [  0.]\n",
            "  [  0.]\n",
            "  [  0.]\n",
            "  [  0.]\n",
            "  [  0.]\n",
            "  [  0.]]]\n"
          ],
          "name": "stdout"
        }
      ]
    },
    {
      "cell_type": "code",
      "metadata": {
        "id": "eKlF5Ft_aXWP"
      },
      "source": [
        "# Redimensionamos\r\n",
        "# Inves de estar entre 0 - 255\r\n",
        "# fazemos de 0 - 1\r\n",
        "\r\n",
        "x_train = x_train/255\r\n",
        "x_test = x_test/255\r\n"
      ],
      "execution_count": 7,
      "outputs": []
    },
    {
      "cell_type": "code",
      "metadata": {
        "colab": {
          "base_uri": "https://localhost:8080/"
        },
        "id": "uzK2vCLCbmfL",
        "outputId": "77a25aa2-f6b9-4e85-c238-0a564954705e"
      },
      "source": [
        "# Agora vamos a converter nosso vetor para uma matriz Multiclasse.\r\n",
        "print(y_train)"
      ],
      "execution_count": 8,
      "outputs": [
        {
          "output_type": "stream",
          "text": [
            "[5 0 4 ... 5 6 8]\n"
          ],
          "name": "stdout"
        }
      ]
    },
    {
      "cell_type": "code",
      "metadata": {
        "colab": {
          "base_uri": "https://localhost:8080/"
        },
        "id": "IUDVU7dAcjlc",
        "outputId": "223b9ae6-a6fd-4b32-f52e-98994d3b5f93"
      },
      "source": [
        "# convertendo para valores CATEGÓRICOS\r\n",
        "y_train = np_utils.to_categorical(y_train)\r\n",
        "\r\n",
        "# Vejamos agora:\r\n",
        "print(y_train)"
      ],
      "execution_count": 9,
      "outputs": [
        {
          "output_type": "stream",
          "text": [
            "[[0. 0. 0. ... 0. 0. 0.]\n",
            " [1. 0. 0. ... 0. 0. 0.]\n",
            " [0. 0. 0. ... 0. 0. 0.]\n",
            " ...\n",
            " [0. 0. 0. ... 0. 0. 0.]\n",
            " [0. 0. 0. ... 0. 0. 0.]\n",
            " [0. 0. 0. ... 0. 1. 0.]]\n"
          ],
          "name": "stdout"
        }
      ]
    },
    {
      "cell_type": "code",
      "metadata": {
        "id": "6hnFO2ASdFKH"
      },
      "source": [
        "#  De igual maneira para meu comjunto de teste\r\n",
        "\r\n",
        "y_test = np_utils.to_categorical(y_test)"
      ],
      "execution_count": 10,
      "outputs": []
    },
    {
      "cell_type": "code",
      "metadata": {
        "colab": {
          "base_uri": "https://localhost:8080/"
        },
        "id": "Plskx87Kd8BJ",
        "outputId": "c06341a8-a181-41ad-9e42-76daf0b78f3c"
      },
      "source": [
        "print(y_test)"
      ],
      "execution_count": 11,
      "outputs": [
        {
          "output_type": "stream",
          "text": [
            "[[0. 0. 0. ... 1. 0. 0.]\n",
            " [0. 0. 1. ... 0. 0. 0.]\n",
            " [0. 1. 0. ... 0. 0. 0.]\n",
            " ...\n",
            " [0. 0. 0. ... 0. 0. 0.]\n",
            " [0. 0. 0. ... 0. 0. 0.]\n",
            " [0. 0. 0. ... 0. 0. 0.]]\n"
          ],
          "name": "stdout"
        }
      ]
    },
    {
      "cell_type": "code",
      "metadata": {
        "colab": {
          "base_uri": "https://localhost:8080/"
        },
        "id": "gJ55Qh5QeGPH",
        "outputId": "a2bde8e4-968b-432c-df56-35f419fc72cb"
      },
      "source": [
        "# Número de classes (são de 0 ate 9)\r\n",
        "\r\n",
        "num_classes = y_test.shape[1]\r\n",
        "print(num_classes)"
      ],
      "execution_count": 12,
      "outputs": [
        {
          "output_type": "stream",
          "text": [
            "10\n"
          ],
          "name": "stdout"
        }
      ]
    },
    {
      "cell_type": "markdown",
      "metadata": {
        "id": "3Po-OvJ64gyr"
      },
      "source": [
        "## Construímos a nossa Rede Neural"
      ]
    },
    {
      "cell_type": "code",
      "metadata": {
        "id": "cs9fJvcC4K_t"
      },
      "source": [
        "model = Sequential()\r\n",
        "\r\n",
        "model.add(Conv2D(30, (5, 5), input_shape=(28, 28, 1), activation='relu'))\r\n",
        "# (1, 28, 28)--> 1 significa na escala de cinza (um canal)\r\n",
        "# Camada que vai gerar 30 feature math e com \"Kernel\" 5x5\r\n",
        "\r\n",
        "model.add(MaxPooling2D(pool_size=(2, 2))) # Chamada: Camada de ajustamento  \r\n",
        "# pool_size --> Tamanho da janela da amostra\r\n",
        "###########################\r\n",
        "# Adicionamos mais camadas para MELHORAR nossa RED e por ende nossos resultados\r\n",
        "model.add(Conv2D(15, (3, 3), input_shape=(28, 28, 1), activation='relu'))\r\n",
        "model.add(MaxPooling2D(pool_size=(2, 2)))\r\n",
        "###########################\r\n",
        "model.add(Dropout(0.20))\r\n",
        "# Incluimos a técnica de regularização, a qual consiste me desligar alguns neurônios da \r\n",
        "# rede, maneira aleatoria. Para que eles não se ajustem demais aos Dados de treino \r\n",
        "\r\n",
        "model.add(Flatten())\r\n",
        "# achatamos nossos Dados\r\n",
        "\r\n",
        "model.add(Dense(128, activation='relu'))\r\n",
        "# 128 --> Neurônios\r\n",
        "# Podemos adicionar mais camadas \"Dense\", não é obrigatório colocar apenas uma\r\n",
        "# Então, colocamos a continuação algumas\r\n",
        "model.add(Dense(64, activation='relu'))\r\n",
        "model.add(Dense(32, activation='relu'))\r\n",
        "\r\n",
        "model.add(Dense(num_classes, activation='softmax', name='predict'))\r\n",
        "# Saída (última camada)\r\n",
        "# Esta camada tem quantidade de neurônios igual à quantidade de classes que tenho\r\n",
        "# Aqui também damos um nome a nossa camada: 'predict' \r\n"
      ],
      "execution_count": 13,
      "outputs": []
    },
    {
      "cell_type": "code",
      "metadata": {
        "colab": {
          "base_uri": "https://localhost:8080/"
        },
        "id": "odcat-Rb9t3z",
        "outputId": "eda87eed-ad26-4dd0-b82d-66627c860427"
      },
      "source": [
        "# Consolidamos a nossa arquitetura com o método \"compile\"\r\n",
        "# O objetivo da nossa CNN é diminuir o erro de classificação\r\n",
        "model.compile(loss='categorical_crossentropy', optimizer='Adam', metrics=['accuracy'])\r\n",
        "\r\n",
        "\r\n",
        "# Vejamos o resumo da nossa CNN, para isso utilizamos o método \"summary\"\r\n",
        "model.summary()"
      ],
      "execution_count": 14,
      "outputs": [
        {
          "output_type": "stream",
          "text": [
            "Model: \"sequential\"\n",
            "_________________________________________________________________\n",
            "Layer (type)                 Output Shape              Param #   \n",
            "=================================================================\n",
            "conv2d (Conv2D)              (None, 24, 24, 30)        780       \n",
            "_________________________________________________________________\n",
            "max_pooling2d (MaxPooling2D) (None, 12, 12, 30)        0         \n",
            "_________________________________________________________________\n",
            "conv2d_1 (Conv2D)            (None, 10, 10, 15)        4065      \n",
            "_________________________________________________________________\n",
            "max_pooling2d_1 (MaxPooling2 (None, 5, 5, 15)          0         \n",
            "_________________________________________________________________\n",
            "dropout (Dropout)            (None, 5, 5, 15)          0         \n",
            "_________________________________________________________________\n",
            "flatten (Flatten)            (None, 375)               0         \n",
            "_________________________________________________________________\n",
            "dense (Dense)                (None, 128)               48128     \n",
            "_________________________________________________________________\n",
            "dense_1 (Dense)              (None, 64)                8256      \n",
            "_________________________________________________________________\n",
            "dense_2 (Dense)              (None, 32)                2080      \n",
            "_________________________________________________________________\n",
            "predict (Dense)              (None, 10)                330       \n",
            "=================================================================\n",
            "Total params: 63,639\n",
            "Trainable params: 63,639\n",
            "Non-trainable params: 0\n",
            "_________________________________________________________________\n"
          ],
          "name": "stdout"
        }
      ]
    },
    {
      "cell_type": "markdown",
      "metadata": {
        "id": "OTNcj8KeBb4-"
      },
      "source": [
        "**NOTA:**\r\n",
        "\r\n",
        "Vocês irão notar que apenas uma camada convolucional e uma de subamostragem não foi o suficiente e o modelo não ficou bom. Foi preciso fazer um ajuste na arquitetura da nossa CNN, adicionando uma camada convolucional e outra de subamostragem."
      ]
    },
    {
      "cell_type": "markdown",
      "metadata": {
        "id": "3QKVxKzaCWz-"
      },
      "source": [
        "## Treinamos nossa CNN"
      ]
    },
    {
      "cell_type": "code",
      "metadata": {
        "colab": {
          "base_uri": "https://localhost:8080/"
        },
        "id": "ya2tTNYF-Uj4",
        "outputId": "cc4bfd0d-acad-4152-e53d-ff88b5e1d01e"
      },
      "source": [
        "model.fit(x_train, y_train, validation_data=(x_test, y_test), epochs=10, batch_size=200, verbose=1) \r\n"
      ],
      "execution_count": 15,
      "outputs": [
        {
          "output_type": "stream",
          "text": [
            "Epoch 1/10\n",
            "300/300 [==============================] - 36s 120ms/step - loss: 0.9463 - accuracy: 0.6687 - val_loss: 0.0833 - val_accuracy: 0.9741\n",
            "Epoch 2/10\n",
            "300/300 [==============================] - 36s 119ms/step - loss: 0.1120 - accuracy: 0.9658 - val_loss: 0.0511 - val_accuracy: 0.9835\n",
            "Epoch 3/10\n",
            "300/300 [==============================] - 36s 119ms/step - loss: 0.0755 - accuracy: 0.9760 - val_loss: 0.0391 - val_accuracy: 0.9872\n",
            "Epoch 4/10\n",
            "300/300 [==============================] - 36s 119ms/step - loss: 0.0574 - accuracy: 0.9824 - val_loss: 0.0346 - val_accuracy: 0.9884\n",
            "Epoch 5/10\n",
            "300/300 [==============================] - 36s 119ms/step - loss: 0.0513 - accuracy: 0.9839 - val_loss: 0.0289 - val_accuracy: 0.9909\n",
            "Epoch 6/10\n",
            "300/300 [==============================] - 36s 119ms/step - loss: 0.0424 - accuracy: 0.9860 - val_loss: 0.0342 - val_accuracy: 0.9892\n",
            "Epoch 7/10\n",
            "300/300 [==============================] - 36s 119ms/step - loss: 0.0377 - accuracy: 0.9875 - val_loss: 0.0301 - val_accuracy: 0.9908\n",
            "Epoch 8/10\n",
            "300/300 [==============================] - 36s 120ms/step - loss: 0.0344 - accuracy: 0.9888 - val_loss: 0.0306 - val_accuracy: 0.9905\n",
            "Epoch 9/10\n",
            "300/300 [==============================] - 36s 120ms/step - loss: 0.0357 - accuracy: 0.9884 - val_loss: 0.0255 - val_accuracy: 0.9918\n",
            "Epoch 10/10\n",
            "300/300 [==============================] - 36s 119ms/step - loss: 0.0297 - accuracy: 0.9907 - val_loss: 0.0267 - val_accuracy: 0.9908\n"
          ],
          "name": "stdout"
        },
        {
          "output_type": "execute_result",
          "data": {
            "text/plain": [
              "<tensorflow.python.keras.callbacks.History at 0x7f029d1e9588>"
            ]
          },
          "metadata": {
            "tags": []
          },
          "execution_count": 15
        }
      ]
    },
    {
      "cell_type": "code",
      "metadata": {
        "colab": {
          "base_uri": "https://localhost:8080/"
        },
        "id": "Ms0ujTJdDGeJ",
        "outputId": "f0172c35-4cfa-4a44-e861-d1de2c746368"
      },
      "source": [
        "# Vamos medir a accuracy\r\n",
        "# Utilizamos o método \"evaluate\"\r\n",
        "scores = model.evaluate(x_test, y_test, verbose=1)"
      ],
      "execution_count": 16,
      "outputs": [
        {
          "output_type": "stream",
          "text": [
            "313/313 [==============================] - 3s 9ms/step - loss: 0.0267 - accuracy: 0.9908\n"
          ],
          "name": "stdout"
        }
      ]
    },
    {
      "cell_type": "code",
      "metadata": {
        "colab": {
          "base_uri": "https://localhost:8080/"
        },
        "id": "XYLgOHr3bIDM",
        "outputId": "20369e60-c32a-4e29-d774-d2e8700756ba"
      },
      "source": [
        "print(\"\\nA nossa precisão (accuracy) é: % 0.2f %%\" % (scores[1]*100))"
      ],
      "execution_count": 17,
      "outputs": [
        {
          "output_type": "stream",
          "text": [
            "\n",
            "A nossa precisão (accuracy) é:  99.08 %\n"
          ],
          "name": "stdout"
        }
      ]
    },
    {
      "cell_type": "markdown",
      "metadata": {
        "id": "eLWj1nTxjjo5"
      },
      "source": [
        "## Agora vamos a testar nosso modelo com NOVOS NÚMEROS (números que estão em nossa pasta)\r\n",
        "\r\n",
        "\r\n",
        "### Identificando o QUATRO:"
      ]
    },
    {
      "cell_type": "code",
      "metadata": {
        "id": "BTN7gn2AjE5R"
      },
      "source": [
        "# Carregamos nossa primeira imagem (o número \"4\")\r\n",
        "# Utilizamos \"cv2\" para isso\r\n",
        "# carregamos na escala de cinza\r\n",
        "img_pred = cv2.imread(\"/content/drive/MyDrive/Apenas_TensorFlow_Eddy/Deep_Learning_Keras_Reconhecimento_CNN/number-four.png\", 0)"
      ],
      "execution_count": 36,
      "outputs": []
    },
    {
      "cell_type": "code",
      "metadata": {
        "colab": {
          "base_uri": "https://localhost:8080/",
          "height": 286
        },
        "id": "7RsKiM4CioK8",
        "outputId": "e348e8e8-2fdf-418f-f922-2581c4927b4a"
      },
      "source": [
        "# Logo plotamos\r\n",
        "# TEMOS QUE PREDEZIR ESTE NÚMERO COM NOSSO MODELO !\r\n",
        "plt.imshow(img_pred, cmap='gray')"
      ],
      "execution_count": 37,
      "outputs": [
        {
          "output_type": "execute_result",
          "data": {
            "text/plain": [
              "<matplotlib.image.AxesImage at 0x7f0298a255c0>"
            ]
          },
          "metadata": {
            "tags": []
          },
          "execution_count": 37
        },
        {
          "output_type": "display_data",
          "data": {
            "image/png": "[encoded data removed]",
            "text/plain": [
              "<Figure size 432x288 with 1 Axes>"
            ]
          },
          "metadata": {
            "tags": [],
            "needs_background": "light"
          }
        }
      ]
    },
    {
      "cell_type": "code",
      "metadata": {
        "id": "MUEmnRBJkxw5"
      },
      "source": [
        "# Primeiro: vamos adequar esta imagem à escala de nosso modelo, de 28x28\r\n",
        "\r\n",
        "if img_pred.shape != [28, 28]:\r\n",
        "  img2 = cv2.resize(img_pred, (28, 28))\r\n",
        "  img_pred = img2.reshape(28, 28, 1)\r\n",
        "else:\r\n",
        "  img_pred = img_pred.reshape(28, 28, 1)  \r\n",
        "\r\n",
        "\r\n",
        "img_pred = img_pred.reshape(1, 28, 28, 1)\r\n",
        "\r\n",
        "\r\n"
      ],
      "execution_count": 38,
      "outputs": []
    },
    {
      "cell_type": "code",
      "metadata": {
        "colab": {
          "base_uri": "https://localhost:8080/"
        },
        "id": "-LDB1eMuoERK",
        "outputId": "488933a5-8372-46ac-bb06-fc0a4ce6bc10"
      },
      "source": [
        "print(img_pred.shape)"
      ],
      "execution_count": 39,
      "outputs": [
        {
          "output_type": "stream",
          "text": [
            "(1, 28, 28, 1)\n"
          ],
          "name": "stdout"
        }
      ]
    },
    {
      "cell_type": "code",
      "metadata": {
        "colab": {
          "base_uri": "https://localhost:8080/"
        },
        "id": "61NN_To6oQ80",
        "outputId": "ff30987e-a89b-4c84-c631-a00ae90035e5"
      },
      "source": [
        "# Predizimos agora:\r\n",
        "\r\n",
        "pred = model.predict_classes(img_pred)\r\n",
        "\r\n",
        "pred_proba = model.predict_proba(img_pred)\r\n",
        "pred_proba = \"%0.2f%%\" % (pred_proba[0][pred]*100) "
      ],
      "execution_count": 40,
      "outputs": [
        {
          "output_type": "stream",
          "text": [
            "/usr/local/lib/python3.6/dist-packages/tensorflow/python/keras/engine/sequential.py:450: UserWarning: `model.predict_classes()` is deprecated and will be removed after 2021-01-01. Please use instead:* `np.argmax(model.predict(x), axis=-1)`,   if your model does multi-class classification   (e.g. if it uses a `softmax` last-layer activation).* `(model.predict(x) > 0.5).astype(\"int32\")`,   if your model does binary classification   (e.g. if it uses a `sigmoid` last-layer activation).\n",
            "  warnings.warn('`model.predict_classes()` is deprecated and '\n",
            "/usr/local/lib/python3.6/dist-packages/tensorflow/python/keras/engine/sequential.py:425: UserWarning: `model.predict_proba()` is deprecated and will be removed after 2021-01-01. Please use `model.predict()` instead.\n",
            "  warnings.warn('`model.predict_proba()` is deprecated and '\n"
          ],
          "name": "stderr"
        }
      ]
    },
    {
      "cell_type": "code",
      "metadata": {
        "colab": {
          "base_uri": "https://localhost:8080/"
        },
        "id": "0uGuSRltpXr6",
        "outputId": "1c5c9a12-4a81-450a-9235-32fa6b712c1e"
      },
      "source": [
        "# Veremos que ele não predize corretamente o \"4\" ao início\r\n",
        "# Depois de adicionar mais duas camadas, nosso modelo predize corretamente o \"4\"\r\n",
        "\r\n",
        "print(pred[0], \"Com probabilidade de: \", pred_proba)\r\n"
      ],
      "execution_count": 42,
      "outputs": [
        {
          "output_type": "stream",
          "text": [
            "4 Com probabilidade de:  100.00%\n"
          ],
          "name": "stdout"
        }
      ]
    },
    {
      "cell_type": "markdown",
      "metadata": {
        "id": "jnozIltUED7g"
      },
      "source": [
        "### Identificando o CINCO:"
      ]
    },
    {
      "cell_type": "code",
      "metadata": {
        "colab": {
          "base_uri": "https://localhost:8080/",
          "height": 286
        },
        "id": "Gs4v3nN3qis1",
        "outputId": "fa766d90-3917-4c43-cb30-eb28f174c7fa"
      },
      "source": [
        "img_pred = cv2.imread(\"/content/drive/MyDrive/Apenas_TensorFlow_Eddy/Deep_Learning_Keras_Reconhecimento_CNN/number-five.png\", 0)\r\n",
        "\r\n",
        "plt.imshow(img_pred, cmap='gray')"
      ],
      "execution_count": 43,
      "outputs": [
        {
          "output_type": "execute_result",
          "data": {
            "text/plain": [
              "<matplotlib.image.AxesImage at 0x7f0298a03518>"
            ]
          },
          "metadata": {
            "tags": []
          },
          "execution_count": 43
        },
        {
          "output_type": "display_data",
          "data": {
            "image/png": "[encoded data removed]",
            "text/plain": [
              "<Figure size 432x288 with 1 Axes>"
            ]
          },
          "metadata": {
            "tags": [],
            "needs_background": "light"
          }
        }
      ]
    },
    {
      "cell_type": "code",
      "metadata": {
        "id": "lRQ50VT6FJ0l"
      },
      "source": [
        "if img_pred.shape != [28, 28]:\r\n",
        "  img2 = cv2.resize(img_pred, (28, 28))\r\n",
        "  img_pred = img2.reshape(28, 28, 1)\r\n",
        "else:\r\n",
        "  img_pred = img_pred.reshape(28, 28, 1)  \r\n",
        "\r\n",
        "\r\n",
        "img_pred = img_pred.reshape(1, 28, 28, 1)\r\n"
      ],
      "execution_count": 44,
      "outputs": []
    },
    {
      "cell_type": "code",
      "metadata": {
        "colab": {
          "base_uri": "https://localhost:8080/"
        },
        "id": "8w-kXCCFFNyj",
        "outputId": "5127afc4-e7fe-4dda-b78e-e7eca4fa3a72"
      },
      "source": [
        "print(img_pred.shape)"
      ],
      "execution_count": 45,
      "outputs": [
        {
          "output_type": "stream",
          "text": [
            "(1, 28, 28, 1)\n"
          ],
          "name": "stdout"
        }
      ]
    },
    {
      "cell_type": "code",
      "metadata": {
        "colab": {
          "base_uri": "https://localhost:8080/"
        },
        "id": "IeEwX7NcFOaw",
        "outputId": "0832c52a-7be7-42a6-cad1-8993d76aed5b"
      },
      "source": [
        "# Predizimos agora:\r\n",
        "\r\n",
        "pred = model.predict_classes(img_pred)\r\n",
        "\r\n",
        "pred_proba = model.predict_proba(img_pred)\r\n",
        "pred_proba = \"%0.2f%%\" % (pred_proba[0][pred]*100) "
      ],
      "execution_count": 46,
      "outputs": [
        {
          "output_type": "stream",
          "text": [
            "/usr/local/lib/python3.6/dist-packages/tensorflow/python/keras/engine/sequential.py:450: UserWarning: `model.predict_classes()` is deprecated and will be removed after 2021-01-01. Please use instead:* `np.argmax(model.predict(x), axis=-1)`,   if your model does multi-class classification   (e.g. if it uses a `softmax` last-layer activation).* `(model.predict(x) > 0.5).astype(\"int32\")`,   if your model does binary classification   (e.g. if it uses a `sigmoid` last-layer activation).\n",
            "  warnings.warn('`model.predict_classes()` is deprecated and '\n",
            "/usr/local/lib/python3.6/dist-packages/tensorflow/python/keras/engine/sequential.py:425: UserWarning: `model.predict_proba()` is deprecated and will be removed after 2021-01-01. Please use `model.predict()` instead.\n",
            "  warnings.warn('`model.predict_proba()` is deprecated and '\n"
          ],
          "name": "stderr"
        }
      ]
    },
    {
      "cell_type": "code",
      "metadata": {
        "colab": {
          "base_uri": "https://localhost:8080/"
        },
        "id": "3n5vJCTNFTxA",
        "outputId": "f50f1bc3-daa7-470f-bf0e-43584bf0a489"
      },
      "source": [
        "print(pred[0], \"Com probabilidade de: \", pred_proba)"
      ],
      "execution_count": 47,
      "outputs": [
        {
          "output_type": "stream",
          "text": [
            "5 Com probabilidade de:  100.00%\n"
          ],
          "name": "stdout"
        }
      ]
    },
    {
      "cell_type": "code",
      "metadata": {
        "id": "dnYeM5ezFX-Q"
      },
      "source": [
        ""
      ],
      "execution_count": null,
      "outputs": []
    }
  ]
}